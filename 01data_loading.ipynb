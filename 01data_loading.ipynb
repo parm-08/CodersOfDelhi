{
 "cells": [
  {
   "cell_type": "code",
   "execution_count": 33,
   "id": "949ea4cd-f9ee-401f-908d-143a266a8ad3",
   "metadata": {},
   "outputs": [],
   "source": [
    "#Lets write a function to load the data\n",
    "import json"
   ]
  },
  {
   "cell_type": "code",
   "execution_count": 34,
   "id": "4789e793-80d0-4226-83c2-524075868b2d",
   "metadata": {},
   "outputs": [],
   "source": [
    "def load_data(filename):\n",
    "    f = open(filename, \"r\")       # open file\n",
    "    data = json.load(f)           # parse JSON\n",
    "    f.close()                     # close file manually\n",
    "    return data"
   ]
  },
  {
   "cell_type": "code",
   "execution_count": 35,
   "id": "555ffeb1-cf80-4470-b851-b3404cf73473",
   "metadata": {},
   "outputs": [],
   "source": [
    "data=load_data(\"data.json\")\n"
   ]
  },
  {
   "cell_type": "code",
   "execution_count": 36,
   "id": "58b2e2a4-98c2-4091-8036-61bcb21a5d48",
   "metadata": {},
   "outputs": [
    {
     "data": {
      "text/plain": [
       "{'users': [{'id': 1, 'name': 'Amit', 'friends': [2, 3], 'liked_pages': [101]},\n",
       "  {'id': 2, 'name': 'Priya', 'friends': [1, 4], 'liked_pages': [102]},\n",
       "  {'id': 3, 'name': 'Rahul', 'friends': [1], 'liked_pages': [101, 103]},\n",
       "  {'id': 4, 'name': 'Sara', 'friends': [2], 'liked_pages': [104]}],\n",
       " 'pages': [{'id': 101, 'name': 'Python Developers'},\n",
       "  {'id': 102, 'name': 'Data Science Enthusiasts'},\n",
       "  {'id': 103, 'name': 'AI & ML Community'},\n",
       "  {'id': 104, 'name': 'Web Dev Hub'}]}"
      ]
     },
     "execution_count": 36,
     "metadata": {},
     "output_type": "execute_result"
    }
   ],
   "source": [
    "data"
   ]
  },
  {
   "cell_type": "code",
   "execution_count": 37,
   "id": "3f7ab458-c1a7-4268-8195-9a321f60d50a",
   "metadata": {},
   "outputs": [
    {
     "data": {
      "text/plain": [
       "dict"
      ]
     },
     "execution_count": 37,
     "metadata": {},
     "output_type": "execute_result"
    }
   ],
   "source": [
    "type(data)"
   ]
  },
  {
   "cell_type": "code",
   "execution_count": 38,
   "id": "99b5e961-ff18-445d-8933-ccae68413f74",
   "metadata": {},
   "outputs": [
    {
     "name": "stdout",
     "output_type": "stream",
     "text": [
      "Users and their connections:\n",
      "\n",
      "ID:1 -Amit is friends with [2, 3] and liked pages are [101]\n",
      "ID:2 -Priya is friends with [1, 4] and liked pages are [102]\n",
      "ID:3 -Rahul is friends with [1] and liked pages are [101, 103]\n",
      "ID:4 -Sara is friends with [2] and liked pages are [104]\n",
      "\n",
      "Pages information:\n",
      " 101:Python Developers\n",
      " 102:Data Science Enthusiasts\n",
      " 103:AI & ML Community\n",
      " 104:Web Dev Hub\n"
     ]
    }
   ],
   "source": [
    "# Next,Write a function to display users and their connections\n",
    "def display_users(data):\n",
    "    print(\"Users and their connections:\\n\")\n",
    "    for user in data[\"users\"]:\n",
    "         print(f\"ID:{user['id']} -{user['name']} is friends with {user['friends']} and liked pages are {user['liked_pages']}\")\n",
    "    print(\"\\nPages information:\")\n",
    "    for page in data[\"pages\"]:\n",
    "         print(f\" {page['id']}:{page['name']}\")\n",
    "display_users(data)"
   ]
  },
  {
   "cell_type": "code",
   "execution_count": null,
   "id": "2fb1f637-dccf-477d-a815-772f50d615b2",
   "metadata": {},
   "outputs": [],
   "source": []
  },
  {
   "cell_type": "code",
   "execution_count": null,
   "id": "4372e4f3-5dde-419c-b744-0309e44fc10c",
   "metadata": {},
   "outputs": [],
   "source": []
  },
  {
   "cell_type": "code",
   "execution_count": null,
   "id": "9f75fb6e-ecc0-4d28-9619-c734d2d21c0c",
   "metadata": {},
   "outputs": [],
   "source": []
  }
 ],
 "metadata": {
  "kernelspec": {
   "display_name": "Python 3 (ipykernel)",
   "language": "python",
   "name": "python3"
  },
  "language_info": {
   "codemirror_mode": {
    "name": "ipython",
    "version": 3
   },
   "file_extension": ".py",
   "mimetype": "text/x-python",
   "name": "python",
   "nbconvert_exporter": "python",
   "pygments_lexer": "ipython3",
   "version": "3.13.5"
  }
 },
 "nbformat": 4,
 "nbformat_minor": 5
}
