{
 "cells": [
  {
   "cell_type": "code",
   "execution_count": 18,
   "id": "0f617430-65da-4b59-b064-d8ecd17834ef",
   "metadata": {},
   "outputs": [
    {
     "name": "stdout",
     "output_type": "stream",
     "text": [
      "Data has been cleaned successfully\n"
     ]
    }
   ],
   "source": [
    "import json\n",
    "\n",
    "def clean_data(data):\n",
    "    # REMOVE USERS WITH MISSING NAMES\n",
    "    data[\"users\"] = [user for user in data[\"users\"] if user[\"name\"].strip()]\n",
    "    \n",
    "    # DELETE DUPLICATE FRIENDS\n",
    "    for user in data[\"users\"]:\n",
    "        user['friends'] = list(set(user['friends']))\n",
    "\n",
    "    # DELETE INACTIVE USERS (no friends AND no liked_pages)\n",
    "    data[\"users\"] = [\n",
    "        user for user in data[\"users\"] \n",
    "        if user['friends'] or user['liked_pages']\n",
    "    ]\n",
    "\n",
    "    # REMOVE DUPLICATE PAGES (by id)\n",
    "    unique_pages = {}\n",
    "    for page in data[\"pages\"]:\n",
    "        unique_pages[page[\"id\"]] = page   # Use the page’s id as the dictionary key.___Store the whole page as the value.\n",
    "    data[\"pages\"] = list(unique_pages.values())\n",
    "    \n",
    "    return data\n",
    "\n",
    "\n",
    "# LOAD THE DATA\n",
    "with open(\"dataa2.json\", \"r\") as f:\n",
    "    data = json.load(f)\n",
    "\n",
    "# CLEAN THE DATA\n",
    "data = clean_data(data)\n",
    "\n",
    "# SAVE CLEANED DATA\n",
    "with open(\"cleaned_data2.json\", \"w\") as f:\n",
    "    json.dump(data, f, indent=4)\n",
    "\n",
    "print(\"Data has been cleaned successfully\")\n"
   ]
  },
  {
   "cell_type": "code",
   "execution_count": null,
   "id": "993fe36c-87d3-4411-9044-988b7d96bfae",
   "metadata": {},
   "outputs": [],
   "source": []
  }
 ],
 "metadata": {
  "kernelspec": {
   "display_name": "Python 3 (ipykernel)",
   "language": "python",
   "name": "python3"
  },
  "language_info": {
   "codemirror_mode": {
    "name": "ipython",
    "version": 3
   },
   "file_extension": ".py",
   "mimetype": "text/x-python",
   "name": "python",
   "nbconvert_exporter": "python",
   "pygments_lexer": "ipython3",
   "version": "3.13.5"
  }
 },
 "nbformat": 4,
 "nbformat_minor": 5
}
